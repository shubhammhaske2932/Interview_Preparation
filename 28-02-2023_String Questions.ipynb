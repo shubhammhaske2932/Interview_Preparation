{
 "cells": [
  {
   "cell_type": "markdown",
   "metadata": {},
   "source": [
    "# 1. input = 'aaaabbbccaacccb', Output = a43b2c2a3cb1"
   ]
  },
  {
   "cell_type": "code",
   "execution_count": 13,
   "metadata": {},
   "outputs": [
    {
     "name": "stdout",
     "output_type": "stream",
     "text": [
      "Input: aaaabbbccaacccb\n",
      "Output: a4b3c2a2c3b1\n"
     ]
    }
   ],
   "source": [
    "s = 'aaaabbbccaacccb'\n",
    "\n",
    "output = ''\n",
    "current_ch = s[0]\n",
    "count = 1\n",
    "\n",
    "for ch in range(1,len(s)):\n",
    "    if current_ch ==s[ch]:\n",
    "        count = count + 1\n",
    "    else:\n",
    "        output = output + current_ch + str(count)\n",
    "        current_ch = s[ch]\n",
    "        count = 1\n",
    "        \n",
    "output = output + current_ch + str(count)\n",
    "\n",
    "print('Input:',s)\n",
    "print('Output:',output)\n",
    "    "
   ]
  },
  {
   "cell_type": "markdown",
   "metadata": {},
   "source": [
    "# 2. Reverse this string input = 'aaabvafavgab', output = 'bagvafavbaaa'"
   ]
  },
  {
   "cell_type": "code",
   "execution_count": 20,
   "metadata": {},
   "outputs": [
    {
     "name": "stdout",
     "output_type": "stream",
     "text": [
      "Option 1: bagvafavbaaa\n",
      "\n",
      "Input: aaabvafavgab\n",
      "Option 2: bagvafavbaaa\n"
     ]
    }
   ],
   "source": [
    "s = 'aaabvafavgab'\n",
    "#option 1\n",
    "print(\"Option 1:\", s[::-1])\n",
    "print()\n",
    "\n",
    "#Option 2\n",
    "output = ''\n",
    "i = len(s)-1\n",
    "\n",
    "for ch in range (len(s)):\n",
    "    output = output + s[i]\n",
    "    i = i-1\n",
    "    \n",
    "print('Input:',s)\n",
    "print('Option 2:',output)\n",
    "    "
   ]
  },
  {
   "cell_type": "markdown",
   "metadata": {},
   "source": [
    "# 3. Reverse this string input = 'my name is ram', output = 'ram is name my'"
   ]
  },
  {
   "cell_type": "code",
   "execution_count": 26,
   "metadata": {},
   "outputs": [
    {
     "name": "stdout",
     "output_type": "stream",
     "text": [
      "Input: my name is ram\n",
      "Output: ram is name my\n"
     ]
    }
   ],
   "source": [
    "s = 'my name is ram'\n",
    "\n",
    "l1 =[]\n",
    "\n",
    "for ch in s.split():\n",
    "    l1.append(ch)\n",
    "    \n",
    "l1 = l1[::-1]\n",
    "output = \" \".join(l1)\n",
    "\n",
    "print('Input:',s)\n",
    "print('Output:',output)"
   ]
  },
  {
   "cell_type": "markdown",
   "metadata": {},
   "source": [
    "# 4. Reverser this string input = 'my name is ram',  output = 'mar si eman ym'"
   ]
  },
  {
   "cell_type": "code",
   "execution_count": 28,
   "metadata": {},
   "outputs": [
    {
     "name": "stdout",
     "output_type": "stream",
     "text": [
      "Input: my name is ram\n",
      "Output: mar si eman ym\n"
     ]
    }
   ],
   "source": [
    "s = 'my name is ram'\n",
    "\n",
    "l1=[]\n",
    "\n",
    "for ch in s.split():\n",
    "    l1.append(ch[::-1])\n",
    "    \n",
    "l1 = l1[::-1]\n",
    "output = \" \".join(l1)\n",
    "\n",
    "print('Input:',s)\n",
    "print('Output:',output)"
   ]
  },
  {
   "cell_type": "markdown",
   "metadata": {},
   "source": [
    "# 5. Frequency of the character input = 'aaaabbcccd', output = a:4, b:2, c:3, d:1"
   ]
  },
  {
   "cell_type": "code",
   "execution_count": 36,
   "metadata": {},
   "outputs": [
    {
     "name": "stdout",
     "output_type": "stream",
     "text": [
      "a charcter present in the given string 4 times\n",
      "b charcter present in the given string 2 times\n",
      "c charcter present in the given string 3 times\n",
      "d charcter present in the given string 1 times\n"
     ]
    }
   ],
   "source": [
    "s = 'aaaabbcccd'\n",
    "\n",
    "d={}\n",
    "\n",
    "for x in s:\n",
    "    d[x]=d.get(x,0) + 1\n",
    "\n",
    "for y in d:\n",
    "    print(f\"{y} charcter present in the given string {d[y]} times\")"
   ]
  },
  {
   "cell_type": "markdown",
   "metadata": {},
   "source": [
    "# 6. WAP to sort charcters of the string first alphabates symbols followed by string input = B4A1D3, output = ABD134"
   ]
  },
  {
   "cell_type": "code",
   "execution_count": 47,
   "metadata": {},
   "outputs": [
    {
     "name": "stdout",
     "output_type": "stream",
     "text": [
      "Input: B4A1D3\n",
      "Output: ABD134\n"
     ]
    }
   ],
   "source": [
    "s = 'B4A1D3'\n",
    "\n",
    "digit = ''\n",
    "character = ''\n",
    "\n",
    "for ch in s:\n",
    "    if ch.isalpha():\n",
    "        character = character + ch\n",
    "    else:\n",
    "        digit = digit + ch\n",
    "\n",
    "output = \"\".join(sorted(character)+sorted(digit))\n",
    "\n",
    "print('Input:',s)\n",
    "print('Output:',output)"
   ]
  },
  {
   "cell_type": "markdown",
   "metadata": {},
   "source": [
    "# 7. input = a4b3c2, output = aaaabbbcc"
   ]
  },
  {
   "cell_type": "code",
   "execution_count": 52,
   "metadata": {},
   "outputs": [
    {
     "name": "stdout",
     "output_type": "stream",
     "text": [
      "Input: a4b3c2\n",
      "Output: aaaabbbcc\n"
     ]
    }
   ],
   "source": [
    "s ='a4b3c2'\n",
    "\n",
    "output = ''\n",
    "\n",
    "for ch in s:\n",
    "    if ch.isalpha():\n",
    "        x = ch\n",
    "    else:\n",
    "        d = int(ch)\n",
    "        output = output + x * d\n",
    "\n",
    "print('Input:',s)\n",
    "print('Output:',output)"
   ]
  },
  {
   "cell_type": "markdown",
   "metadata": {},
   "source": [
    "# 8. input = a3z2b4, output = aaabbbbzz"
   ]
  },
  {
   "cell_type": "code",
   "execution_count": 55,
   "metadata": {},
   "outputs": [
    {
     "name": "stdout",
     "output_type": "stream",
     "text": [
      "Input: a3z2b4\n",
      "Output: aaabbbbzz\n"
     ]
    }
   ],
   "source": [
    "s ='a3z2b4'\n",
    "\n",
    "output = ''\n",
    "\n",
    "for ch in s:\n",
    "    if ch.isalpha():\n",
    "        x = ch\n",
    "    else:\n",
    "        d = int(ch)\n",
    "        output = output + x * d\n",
    "\n",
    "output = \"\".join((sorted(output)))\n",
    "\n",
    "print('Input:',s)\n",
    "print('Output:',output)"
   ]
  },
  {
   "cell_type": "markdown",
   "metadata": {},
   "source": [
    "# 9. input = a4k3b2, output = aeknbd"
   ]
  },
  {
   "cell_type": "code",
   "execution_count": 62,
   "metadata": {},
   "outputs": [
    {
     "name": "stdout",
     "output_type": "stream",
     "text": [
      "Input: a4k3b2\n",
      "Output: aeknbd\n"
     ]
    }
   ],
   "source": [
    "s = 'a4k3b2'\n",
    "\n",
    "output = ''\n",
    "for ch in s:\n",
    "    if ch.isalpha():\n",
    "        x = ch\n",
    "    else:\n",
    "        d = int(ch)\n",
    "        output = output + x + chr(ord(x)+ d)\n",
    "\n",
    "print('Input:',s)\n",
    "print('Output:',output)"
   ]
  },
  {
   "cell_type": "code",
   "execution_count": 59,
   "metadata": {},
   "outputs": [
    {
     "data": {
      "text/plain": [
       "97"
      ]
     },
     "execution_count": 59,
     "metadata": {},
     "output_type": "execute_result"
    }
   ],
   "source": [
    "ord('a')"
   ]
  },
  {
   "cell_type": "markdown",
   "metadata": {},
   "source": [
    "# 10. WAP to remove duplicate character from string string = 'aaaabbbvcafff'"
   ]
  },
  {
   "cell_type": "code",
   "execution_count": 63,
   "metadata": {},
   "outputs": [
    {
     "name": "stdout",
     "output_type": "stream",
     "text": [
      "Input: aaaabbbvcafff\n",
      "Output: abvcf\n"
     ]
    }
   ],
   "source": [
    "s = 'aaaabbbvcafff'\n",
    "\n",
    "output = ''\n",
    "\n",
    "for ch in s:\n",
    "    if ch not in output:\n",
    "        output = output + ch\n",
    "        \n",
    "print('Input:',s)\n",
    "print('Output:',output)"
   ]
  }
 ],
 "metadata": {
  "kernelspec": {
   "display_name": "Python 3 (ipykernel)",
   "language": "python",
   "name": "python3"
  },
  "language_info": {
   "codemirror_mode": {
    "name": "ipython",
    "version": 3
   },
   "file_extension": ".py",
   "mimetype": "text/x-python",
   "name": "python",
   "nbconvert_exporter": "python",
   "pygments_lexer": "ipython3",
   "version": "3.7.3"
  }
 },
 "nbformat": 4,
 "nbformat_minor": 2
}
