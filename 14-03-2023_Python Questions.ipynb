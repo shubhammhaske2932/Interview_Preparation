{
 "cells": [
  {
   "cell_type": "markdown",
   "metadata": {},
   "source": [
    "# 1. Count frequency of the numbers in the given list"
   ]
  },
  {
   "cell_type": "code",
   "execution_count": 1,
   "metadata": {},
   "outputs": [
    {
     "name": "stdout",
     "output_type": "stream",
     "text": [
      "1 present 4 times in the given list\n",
      "2 present 3 times in the given list\n",
      "3 present 2 times in the given list\n",
      "4 present 3 times in the given list\n",
      "5 present 1 times in the given list\n"
     ]
    }
   ],
   "source": [
    "l = [1,2,3,4,5,1,1,2,1,2,4,4,3]\n",
    "d = {}\n",
    "for x in l:\n",
    "    d[x] = d.get(x,0)+1\n",
    "    \n",
    "for y in d:\n",
    "    print(f'{y} present {d[y]} times in the given list')"
   ]
  },
  {
   "cell_type": "markdown",
   "metadata": {},
   "source": [
    "# 2. Check whether the given number is prime or not"
   ]
  },
  {
   "cell_type": "code",
   "execution_count": 9,
   "metadata": {},
   "outputs": [
    {
     "name": "stdout",
     "output_type": "stream",
     "text": [
      "Enter a number: 4\n",
      "The given number is not a prime number\n"
     ]
    }
   ],
   "source": [
    "n = int(input(\"Enter a number: \"))\n",
    "\n",
    "for x in range(2,n):\n",
    "    if n%x == 0:\n",
    "        print(\"The given number is not a prime number\")\n",
    "        break\n",
    "else:\n",
    "    print(\"The given number is a prime number\")"
   ]
  },
  {
   "cell_type": "markdown",
   "metadata": {},
   "source": [
    "# 3. Find out the prime number in the range of 0 to 100"
   ]
  },
  {
   "cell_type": "code",
   "execution_count": 3,
   "metadata": {},
   "outputs": [
    {
     "name": "stdout",
     "output_type": "stream",
     "text": [
      "Enter a number: 100\n",
      "Prime number in range of 0 to 100 are\n",
      "[2, 3, 5, 7, 11, 13, 17, 19, 23, 29, 31, 37, 41, 43, 47, 53, 59, 61, 67, 71, 73, 79, 83, 89, 97]\n"
     ]
    }
   ],
   "source": [
    "n = int(input(\"Enter a number: \"))\n",
    "\n",
    "l = []\n",
    "\n",
    "prime_number=[]\n",
    "\n",
    "for x in range (0,n+1):\n",
    "    for y in range(2,n):\n",
    "        if x%y == 0:\n",
    "            l.append(x)\n",
    "\n",
    "for z in l:\n",
    "    if l.count(z)==1:\n",
    "        prime_number.append(z)\n",
    "        \n",
    "print(f\"Prime number in range of 0 to {n} are\\n{prime_number}\")"
   ]
  },
  {
   "cell_type": "markdown",
   "metadata": {},
   "source": [
    "# 4. Fibonacci series"
   ]
  },
  {
   "cell_type": "code",
   "execution_count": 4,
   "metadata": {},
   "outputs": [
    {
     "name": "stdout",
     "output_type": "stream",
     "text": [
      "Enter a number: 10\n",
      "Fibonacci Series [0, 1, 1, 2, 3, 5, 8, 13, 21, 34]\n"
     ]
    }
   ],
   "source": [
    "n = int(input(\"Enter a number: \"))\n",
    "\n",
    "fib_list=[0,1]\n",
    "\n",
    "list(map(lambda x:fib_list.append(sum(fib_list[-2:])),range(2,n)))\n",
    "\n",
    "print(\"Fibonacci Series\",fib_list )"
   ]
  },
  {
   "cell_type": "markdown",
   "metadata": {},
   "source": [
    "# 5. Remove Vowels from given string"
   ]
  },
  {
   "cell_type": "code",
   "execution_count": 5,
   "metadata": {},
   "outputs": [
    {
     "name": "stdout",
     "output_type": "stream",
     "text": [
      "Enter a string: my name is shubham\n",
      "text_without_vowels: my nm s shbhm\n"
     ]
    }
   ],
   "source": [
    "s = input(\"Enter a string: \")\n",
    "\n",
    "vowels = 'aeiou'\n",
    "\n",
    "text_without_vowels = ''\n",
    "\n",
    "for ch in s:\n",
    "    if ch not in vowels:\n",
    "        text_without_vowels = text_without_vowels + ch\n",
    "        \n",
    "print(\"text_without_vowels:\",text_without_vowels)"
   ]
  },
  {
   "cell_type": "markdown",
   "metadata": {},
   "source": [
    "# 6. Find the value from dictionary base on key"
   ]
  },
  {
   "cell_type": "code",
   "execution_count": 11,
   "metadata": {},
   "outputs": [
    {
     "name": "stdout",
     "output_type": "stream",
     "text": [
      "Enter a key: 30\n",
      "Enter a wrong key, Please enter correct key\n"
     ]
    }
   ],
   "source": [
    "key = input(\"Enter a key: \")\n",
    "d = {\"A\":10,\"B\":20,\"C\":30,\"D\":40}\n",
    "for x in d:\n",
    "    if x == key:\n",
    "        print(f\"The given key {key} associated with value {d[key]}\")\n",
    "        break\n",
    "else:\n",
    "    print(\"Enter a wrong key, Please enter correct key\")"
   ]
  },
  {
   "cell_type": "markdown",
   "metadata": {},
   "source": [
    "# 7.Find the key from dictionary base on value"
   ]
  },
  {
   "cell_type": "code",
   "execution_count": 7,
   "metadata": {},
   "outputs": [
    {
     "name": "stdout",
     "output_type": "stream",
     "text": [
      "Enter a value: 40\n",
      "The value 40 associated with D key\n"
     ]
    }
   ],
   "source": [
    "n = int(input(\"Enter a value: \"))\n",
    "\n",
    "d = {\"A\":10,\"B\":20,\"C\":30,\"D\":40}\n",
    "\n",
    "for key, value in d.items():\n",
    "    if value == n:\n",
    "        print(f\"The value {value} associated with {key} key\")\n",
    "        break\n",
    "else:\n",
    "    print(\"Enter wrong value, Please enter correct value\")"
   ]
  }
 ],
 "metadata": {
  "kernelspec": {
   "display_name": "Python 3 (ipykernel)",
   "language": "python",
   "name": "python3"
  },
  "language_info": {
   "codemirror_mode": {
    "name": "ipython",
    "version": 3
   },
   "file_extension": ".py",
   "mimetype": "text/x-python",
   "name": "python",
   "nbconvert_exporter": "python",
   "pygments_lexer": "ipython3",
   "version": "3.7.3"
  }
 },
 "nbformat": 4,
 "nbformat_minor": 2
}
